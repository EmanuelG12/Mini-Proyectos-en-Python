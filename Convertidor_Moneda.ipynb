{
 "cells": [
  {
   "cell_type": "code",
   "execution_count": 1,
   "metadata": {},
   "outputs": [],
   "source": [
    "from forex_python.converter import CurrencyRates"
   ]
  },
  {
   "cell_type": "code",
   "execution_count": 3,
   "metadata": {},
   "outputs": [
    {
     "name": "stdout",
     "output_type": "stream",
     "text": [
      "USD A INR 100\n",
      "8223.336418800782\n"
     ]
    }
   ],
   "source": [
    "c = CurrencyRates()\n",
    "monto = int(input(\"Ingrese el monto: \"))\n",
    "Tipo_Moneda = input(\"Ingrese el tipo de moneda: \").upper()\n",
    "Tipo_Moneda_a_Cambiar = input(\"Ingrese el tipo de moneda a cambiar: \").upper()\n",
    "print(Tipo_Moneda, \"A\", Tipo_Moneda_a_Cambiar, monto)\n",
    "resultado = c.convert(Tipo_Moneda, Tipo_Moneda_a_Cambiar, monto)\n",
    "print(resultado)"
   ]
  }
 ],
 "metadata": {
  "kernelspec": {
   "display_name": "Python 3.10.6 64-bit",
   "language": "python",
   "name": "python3"
  },
  "language_info": {
   "codemirror_mode": {
    "name": "ipython",
    "version": 3
   },
   "file_extension": ".py",
   "mimetype": "text/x-python",
   "name": "python",
   "nbconvert_exporter": "python",
   "pygments_lexer": "ipython3",
   "version": "3.10.6"
  },
  "orig_nbformat": 4,
  "vscode": {
   "interpreter": {
    "hash": "df95319d8ce4e1d89f5365ae10992bc1f65da593082b1d264e8f529830ec2f02"
   }
  }
 },
 "nbformat": 4,
 "nbformat_minor": 2
}
