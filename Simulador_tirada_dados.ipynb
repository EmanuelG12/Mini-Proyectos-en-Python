{
 "cells": [
  {
   "cell_type": "markdown",
   "metadata": {},
   "source": [
    "## Simulador de tiradas de dados"
   ]
  },
  {
   "cell_type": "code",
   "execution_count": null,
   "metadata": {},
   "outputs": [],
   "source": [
    "import random\n",
    "\n",
    "valor_min = 1\n",
    "valor_max = 6\n",
    "\n",
    "\n",
    "lanzar_nuevamente = \"si\"\n",
    "\n",
    "while lanzar_nuevamente == \"si\" or lanzar_nuevamente == \"s\":\n",
    "    print(\"Rodando los dados...\")\n",
    "    print(\"El valor es: \")\n",
    "\n",
    "    print(random.randint(valor_min, valor_max))\n",
    "\n",
    "    lanzar_nuevamente = input(\"Tirar los dados nuevamente?\")"
   ]
  }
 ],
 "metadata": {
  "kernelspec": {
   "display_name": "Python 3.10.6 64-bit",
   "language": "python",
   "name": "python3"
  },
  "language_info": {
   "name": "python",
   "version": "3.10.6"
  },
  "orig_nbformat": 4,
  "vscode": {
   "interpreter": {
    "hash": "df95319d8ce4e1d89f5365ae10992bc1f65da593082b1d264e8f529830ec2f02"
   }
  }
 },
 "nbformat": 4,
 "nbformat_minor": 2
}
