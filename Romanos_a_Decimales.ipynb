{
 "cells": [
  {
   "cell_type": "markdown",
   "metadata": {},
   "source": [
    "## Numeros romanos a Decimales"
   ]
  },
  {
   "cell_type": "code",
   "execution_count": 1,
   "metadata": {},
   "outputs": [
    {
     "data": {
      "text/plain": [
       "1510"
      ]
     },
     "execution_count": 1,
     "metadata": {},
     "output_type": "execute_result"
    }
   ],
   "source": [
    "num_romanos= {'I':1,'V':5,'X':10,'L':50,'C':100,'D':500,'M':1000}\n",
    "\n",
    "def RomanosADecimal(numRomano):\n",
    "    sum = 0\n",
    "    for i in range(len(numRomano) - 1):\n",
    "        izquierda = numRomano[i]\n",
    "        derecha = numRomano[i + 1]\n",
    "        if num_romanos[izquierda] < num_romanos[derecha]:\n",
    "            sum -= num_romanos[izquierda]\n",
    "        else:\n",
    "            sum += num_romanos[izquierda]\n",
    "    sum += num_romanos[numRomano[-1]]\n",
    "    return sum \n",
    "romano= input(\"Ingrese numeros romanos :\")\n",
    "RomanosADecimal(romano)            "
   ]
  }
 ],
 "metadata": {
  "kernelspec": {
   "display_name": "Python 3.10.6 64-bit",
   "language": "python",
   "name": "python3"
  },
  "language_info": {
   "codemirror_mode": {
    "name": "ipython",
    "version": 3
   },
   "file_extension": ".py",
   "mimetype": "text/x-python",
   "name": "python",
   "nbconvert_exporter": "python",
   "pygments_lexer": "ipython3",
   "version": "3.10.6"
  },
  "orig_nbformat": 4,
  "vscode": {
   "interpreter": {
    "hash": "df95319d8ce4e1d89f5365ae10992bc1f65da593082b1d264e8f529830ec2f02"
   }
  }
 },
 "nbformat": 4,
 "nbformat_minor": 2
}
