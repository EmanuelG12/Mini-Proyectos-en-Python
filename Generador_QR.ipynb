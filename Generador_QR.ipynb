{
 "cells": [
  {
   "cell_type": "markdown",
   "metadata": {},
   "source": [
    "## Generador de codigos QR"
   ]
  },
  {
   "cell_type": "code",
   "execution_count": 3,
   "metadata": {},
   "outputs": [
    {
     "ename": "ModuleNotFoundError",
     "evalue": "No module named 'png'",
     "output_type": "error",
     "traceback": [
      "\u001b[1;31m---------------------------------------------------------------------------\u001b[0m",
      "\u001b[1;31mModuleNotFoundError\u001b[0m                       Traceback (most recent call last)",
      "Cell \u001b[1;32mIn [3], line 5\u001b[0m\n\u001b[0;32m      3\u001b[0m link \u001b[39m=\u001b[39m \u001b[39minput\u001b[39m(\u001b[39m\"\u001b[39m\u001b[39mIngrese cualquier cosa para genera QR : \u001b[39m\u001b[39m\"\u001b[39m)\n\u001b[0;32m      4\u001b[0m qr_code \u001b[39m=\u001b[39m pyqrcode\u001b[39m.\u001b[39mcreate(link)\n\u001b[1;32m----> 5\u001b[0m qr_code\u001b[39m.\u001b[39mpng(\u001b[39m\"\u001b[39m\u001b[39mQRCode.png\u001b[39m\u001b[39m\"\u001b[39m, scale\u001b[39m=\u001b[39m\u001b[39m5\u001b[39m)\n\u001b[0;32m      6\u001b[0m Image\u001b[39m.\u001b[39mopen(\u001b[39m\"\u001b[39m\u001b[39mQRCode.png\u001b[39m\u001b[39m\"\u001b[39m)\n",
      "File \u001b[1;32mc:\\Users\\USER\\AppData\\Local\\Programs\\Python\\Python310\\lib\\site-packages\\pyqrcode\\__init__.py:462\u001b[0m, in \u001b[0;36mQRCode.png\u001b[1;34m(self, file, scale, module_color, background, quiet_zone)\u001b[0m\n\u001b[0;32m    416\u001b[0m \u001b[39mdef\u001b[39;00m \u001b[39mpng\u001b[39m(\u001b[39mself\u001b[39m, file, scale\u001b[39m=\u001b[39m\u001b[39m1\u001b[39m, module_color\u001b[39m=\u001b[39m(\u001b[39m0\u001b[39m, \u001b[39m0\u001b[39m, \u001b[39m0\u001b[39m, \u001b[39m255\u001b[39m),\n\u001b[0;32m    417\u001b[0m         background\u001b[39m=\u001b[39m(\u001b[39m255\u001b[39m, \u001b[39m255\u001b[39m, \u001b[39m255\u001b[39m, \u001b[39m255\u001b[39m), quiet_zone\u001b[39m=\u001b[39m\u001b[39m4\u001b[39m):\n\u001b[0;32m    418\u001b[0m     \u001b[39m\"\"\"This method writes the QR code out as an PNG image. The resulting\u001b[39;00m\n\u001b[0;32m    419\u001b[0m \u001b[39m    PNG has a bit depth of 1. The file parameter is used to specify where\u001b[39;00m\n\u001b[0;32m    420\u001b[0m \u001b[39m    to write the image to. It can either be an writable stream or a\u001b[39;00m\n\u001b[1;32m   (...)\u001b[0m\n\u001b[0;32m    460\u001b[0m \u001b[39m                     background=(0xff, 0xff, 0xff, 0x88)) #50% transparent white\u001b[39;00m\n\u001b[0;32m    461\u001b[0m \u001b[39m    \"\"\"\u001b[39;00m\n\u001b[1;32m--> 462\u001b[0m     builder\u001b[39m.\u001b[39;49m_png(\u001b[39mself\u001b[39;49m\u001b[39m.\u001b[39;49mcode, \u001b[39mself\u001b[39;49m\u001b[39m.\u001b[39;49mversion, file, scale,\n\u001b[0;32m    463\u001b[0m                  module_color, background, quiet_zone)\n",
      "File \u001b[1;32mc:\\Users\\USER\\AppData\\Local\\Programs\\Python\\Python310\\lib\\site-packages\\pyqrcode\\builder.py:1266\u001b[0m, in \u001b[0;36m_png\u001b[1;34m(code, version, file, scale, module_color, background, quiet_zone, debug)\u001b[0m\n\u001b[0;32m   1244\u001b[0m \u001b[39mdef\u001b[39;00m \u001b[39m_png\u001b[39m(code, version, file, scale\u001b[39m=\u001b[39m\u001b[39m1\u001b[39m, module_color\u001b[39m=\u001b[39m(\u001b[39m0\u001b[39m, \u001b[39m0\u001b[39m, \u001b[39m0\u001b[39m, \u001b[39m255\u001b[39m),\n\u001b[0;32m   1245\u001b[0m          background\u001b[39m=\u001b[39m(\u001b[39m255\u001b[39m, \u001b[39m255\u001b[39m, \u001b[39m255\u001b[39m, \u001b[39m255\u001b[39m), quiet_zone\u001b[39m=\u001b[39m\u001b[39m4\u001b[39m, debug\u001b[39m=\u001b[39m\u001b[39mFalse\u001b[39;00m):\n\u001b[0;32m   1246\u001b[0m     \u001b[39m\"\"\"See: pyqrcode.QRCode.png()\u001b[39;00m\n\u001b[0;32m   1247\u001b[0m \n\u001b[0;32m   1248\u001b[0m \u001b[39m    This function was abstracted away from QRCode to allow for the output of\u001b[39;00m\n\u001b[1;32m   (...)\u001b[0m\n\u001b[0;32m   1264\u001b[0m \u001b[39m            modules) to the output (default: ``False``).\u001b[39;00m\n\u001b[0;32m   1265\u001b[0m \u001b[39m    \"\"\"\u001b[39;00m\n\u001b[1;32m-> 1266\u001b[0m     \u001b[39mimport\u001b[39;00m \u001b[39mpng\u001b[39;00m\n\u001b[0;32m   1268\u001b[0m     \u001b[39m# Coerce scale parameter into an integer\u001b[39;00m\n\u001b[0;32m   1269\u001b[0m     \u001b[39mtry\u001b[39;00m:\n",
      "\u001b[1;31mModuleNotFoundError\u001b[0m: No module named 'png'"
     ]
    }
   ],
   "source": [
    "import pyqrcode\n",
    "from PIL import Image\n",
    "link = input(\"Ingrese cualquier cosa para genera QR : \")\n",
    "qr_code = pyqrcode.create(link)\n",
    "qr_code.png(\"QRCode.png\", scale=5)\n",
    "Image.open(\"QRCode.png\")"
   ]
  },
  {
   "cell_type": "code",
   "execution_count": null,
   "metadata": {},
   "outputs": [],
   "source": []
  }
 ],
 "metadata": {
  "kernelspec": {
   "display_name": "Python 3.10.6 64-bit",
   "language": "python",
   "name": "python3"
  },
  "language_info": {
   "codemirror_mode": {
    "name": "ipython",
    "version": 3
   },
   "file_extension": ".py",
   "mimetype": "text/x-python",
   "name": "python",
   "nbconvert_exporter": "python",
   "pygments_lexer": "ipython3",
   "version": "3.10.6"
  },
  "orig_nbformat": 4,
  "vscode": {
   "interpreter": {
    "hash": "df95319d8ce4e1d89f5365ae10992bc1f65da593082b1d264e8f529830ec2f02"
   }
  }
 },
 "nbformat": 4,
 "nbformat_minor": 2
}
