{
 "cells": [
  {
   "cell_type": "markdown",
   "metadata": {},
   "source": [
    "## Libro de contacto"
   ]
  },
  {
   "cell_type": "code",
   "execution_count": 2,
   "metadata": {},
   "outputs": [
    {
     "name": "stdout",
     "output_type": "stream",
     "text": [
      "\n",
      "Name\t\t\tNumero de Telefono\n",
      "\n",
      "Emanuel\t\t\t1166513733\n",
      "Resultado de la busqueda:\n",
      "Nombre: Emanuel, Numero de telefono: 1166513733\n",
      "Lucia\t\t\t112451235\n",
      "Resultado de la busqueda:\n",
      "Nombre no encontrado\n"
     ]
    }
   ],
   "source": [
    "names = []\n",
    "phone_numbers = []\n",
    "num = int(input(\"Ingrese el numero de contacto que desea guardar: \"))\n",
    "for i in range(num):\n",
    "    name = input(\"Nombre: \")\n",
    "    phone_number = input(\"Numero de telefono: \")\n",
    "    names.append(name)\n",
    "    phone_numbers.append(phone_number)\n",
    "print(\"\\nName\\t\\t\\tNumero de Telefono\\n\")\n",
    "for i in range(num):\n",
    "    print(\"{}\\t\\t\\t{}\".format(names[i], phone_numbers[i]))\n",
    "    search_term = input(\"\\nIngrese el termino a buscar: \")\n",
    "    print(\"Resultado de la busqueda:\")\n",
    "    if search_term in names:\n",
    "        index = names.index(search_term)\n",
    "        phone_number = phone_numbers[index]\n",
    "        print(\"Nombre: {}, Numero de telefono: {}\".format(search_term, phone_number))\n",
    "    else:\n",
    "        print(\"Nombre no encontrado\")\n"
   ]
  }
 ],
 "metadata": {
  "kernelspec": {
   "display_name": "Python 3.10.6 64-bit",
   "language": "python",
   "name": "python3"
  },
  "language_info": {
   "codemirror_mode": {
    "name": "ipython",
    "version": 3
   },
   "file_extension": ".py",
   "mimetype": "text/x-python",
   "name": "python",
   "nbconvert_exporter": "python",
   "pygments_lexer": "ipython3",
   "version": "3.10.6"
  },
  "orig_nbformat": 4,
  "vscode": {
   "interpreter": {
    "hash": "df95319d8ce4e1d89f5365ae10992bc1f65da593082b1d264e8f529830ec2f02"
   }
  }
 },
 "nbformat": 4,
 "nbformat_minor": 2
}
