{
 "cells": [
  {
   "cell_type": "markdown",
   "metadata": {},
   "source": [
    "## Calculadora de Masa Corporal"
   ]
  },
  {
   "cell_type": "code",
   "execution_count": 1,
   "metadata": {},
   "outputs": [
    {
     "name": "stdout",
     "output_type": "stream",
     "text": [
      "Tu Indice de masa corporal es:  26.122448979591837\n",
      "Usted tiene sobre peso\n"
     ]
    }
   ],
   "source": [
    "Altura = float(input(\"Ingrese su altura en centimetros: \"))\n",
    "Peso = float(input(\"Ingrese su Peso en KG: \"))\n",
    "Altura = Altura/100\n",
    "IMC = Peso/(Altura*Altura)\n",
    "print(\"Tu Indice de masa corporal es: \", IMC)\n",
    "if(IMC>0):\n",
    "    if(IMC<=16):\n",
    "        print(\"Usted esta severamente bajo de peso\")\n",
    "    elif(IMC<=18.5):\n",
    "        print(\"Usted esta bajo de peso\")\n",
    "    elif(IMC<=25):\n",
    "        print(\"Estas sano/a\") \n",
    "    elif(IMC<=30):\n",
    "        print(\"Usted tiene sobre peso\")\n",
    "    else: print(\"Usted esta severamente con sobrepeso\")\n",
    "else:(\"ingrese valores detallados\")               "
   ]
  }
 ],
 "metadata": {
  "kernelspec": {
   "display_name": "Python 3.10.6 64-bit",
   "language": "python",
   "name": "python3"
  },
  "language_info": {
   "codemirror_mode": {
    "name": "ipython",
    "version": 3
   },
   "file_extension": ".py",
   "mimetype": "text/x-python",
   "name": "python",
   "nbconvert_exporter": "python",
   "pygments_lexer": "ipython3",
   "version": "3.10.6"
  },
  "orig_nbformat": 4,
  "vscode": {
   "interpreter": {
    "hash": "df95319d8ce4e1d89f5365ae10992bc1f65da593082b1d264e8f529830ec2f02"
   }
  }
 },
 "nbformat": 4,
 "nbformat_minor": 2
}
